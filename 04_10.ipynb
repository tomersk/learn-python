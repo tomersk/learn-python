{
  "nbformat": 4,
  "nbformat_minor": 0,
  "metadata": {
    "colab": {
      "provenance": [],
      "authorship_tag": "ABX9TyORveQ/9gSMLO15SQpglaiG",
      "include_colab_link": true
    },
    "kernelspec": {
      "name": "python3",
      "display_name": "Python 3"
    },
    "language_info": {
      "name": "python"
    }
  },
  "cells": [
    {
      "cell_type": "markdown",
      "metadata": {
        "id": "view-in-github",
        "colab_type": "text"
      },
      "source": [
        "<a href=\"https://colab.research.google.com/github/tomersk/learn-python/blob/main/04_10.ipynb\" target=\"_parent\"><img src=\"https://colab.research.google.com/assets/colab-badge.svg\" alt=\"Open In Colab\"/></a>"
      ]
    },
    {
      "cell_type": "markdown",
      "source": [
        "## 4.10 Unit hydrograph\n",
        "\n",
        "Let us assume we have excess rainfall of 1 cm in a basin/watershed having an area of 100 $km^2$ and at the outlet, we receive the following amount of water (in length unit, however in reality it would be in volume per time unit):\n",
        "\n",
        "0-1 hour: 0.15\n",
        "\n",
        "1-2 hour: 0.35\n",
        "\n",
        "2-3 hour: 0.25\n",
        "\n",
        "3-4 hour: 0.15\n",
        "\n",
        "4-5 hour: 0.10\n",
        "\n",
        "Let us visualise this."
      ],
      "metadata": {
        "id": "nMoXhcSSgjw1"
      }
    },
    {
      "cell_type": "code",
      "execution_count": 34,
      "metadata": {
        "colab": {
          "base_uri": "https://localhost:8080/",
          "height": 279
        },
        "id": "TQ2UP8bygh1q",
        "outputId": "112660c9-1c0b-4d0e-b91a-09b96513ce56"
      },
      "outputs": [
        {
          "output_type": "display_data",
          "data": {
            "text/plain": [
              "<Figure size 432x288 with 2 Axes>"
            ],
            "image/png": "[encoded data removed]"
          },
          "metadata": {
            "needs_background": "light"
          }
        }
      ],
      "source": [
        "import numpy as np\n",
        "import matplotlib.pyplot as plt\n",
        "\n",
        "excess_rain = 1 # cm\n",
        "direct_runoff = np.array([0.15, 0.35, 0.25, 0.15, 0.1])\n",
        "time = np.arange(0,5)\n",
        "\n",
        "plt.subplot(2,1,1)\n",
        "plt.bar(0,excess_rain, align=\"edge\", width=1.0)\n",
        "plt.ylabel(\"Excess rainfall (cm)\")\n",
        "plt.xlim(0,6)\n",
        "plt.ylim(0,1.2)\n",
        "plt.grid(True)\n",
        "\n",
        "plt.subplot(2,1,2)\n",
        "plt.bar(time,direct_runoff, align=\"edge\", width=1.0)\n",
        "plt.xlabel(\"Time (hours)\")\n",
        "plt.ylabel(\"Direct Runoff (cm)\")\n",
        "plt.ylim(0,1.2)\n",
        "plt.xlim(0,6)\n",
        "plt.grid(True)\n",
        "\n",
        "plt.show()"
      ]
    },
    {
      "cell_type": "markdown",
      "source": [
        "Note how we are define *edge* and *width* parameters in *bar* plot to mark the start and end of each hour correctly.\n",
        "\n",
        "We can see from the top plot that rainfall of 1 cm is taking some time to reach the outlet and the peak is during 1-2 hours. \n",
        "You can also check the total direct runoff at outlet -- it should be equal to the total excess rainafll. \n",
        "\n",
        "We can use convolution to compute the discharge for any rainfall event.\n",
        "\n",
        "Let us assume we have rainfall for 6 hours, with varying intensity."
      ],
      "metadata": {
        "id": "2r1H2LvspH0s"
      }
    },
    {
      "cell_type": "code",
      "source": [
        "import numpy as np\n",
        "import matplotlib.pyplot as plt\n",
        "\n",
        "excess_rain = np.random.uniform(size=6)\n",
        "time_rain = np.arange(len(excess_rain))\n",
        "unit_direct_runoff = np.array([0.15, 0.35, 0.25, 0.15, 0.1])\n",
        "\n",
        "direct_runoff = np.convolve(excess_rain, unit_direct_runoff)\n",
        "time_dr = np.arange(len(direct_runoff))\n",
        "\n",
        "plt.subplot(3,1,1)\n",
        "plt.bar(time_rain, excess_rain, align=\"edge\", width=1.0)\n",
        "plt.ylabel(\"Excess rainfall (cm)\")\n",
        "plt.xlim(0,10)\n",
        "plt.ylim(0,1.2)\n",
        "plt.grid(True)\n",
        "\n",
        "plt.subplot(3,1,2)\n",
        "plt.bar(time_dr, direct_runoff, align=\"edge\", width=1.0)\n",
        "plt.xlabel(\"Time (hours)\")\n",
        "plt.ylabel(\"Direct Runoff (cm)\")\n",
        "plt.ylim(0,1.2)\n",
        "plt.xlim(0,10)\n",
        "plt.grid(True)\n",
        "\n",
        "plt.show()"
      ],
      "metadata": {
        "colab": {
          "base_uri": "https://localhost:8080/",
          "height": 220
        },
        "id": "SN08LRAepwiM",
        "outputId": "e4476953-b03b-470c-c827-88c209a4ae3a"
      },
      "execution_count": 35,
      "outputs": [
        {
          "output_type": "display_data",
          "data": {
            "text/plain": [
              "<Figure size 432x288 with 2 Axes>"
            ],
            "image/png": "[encoded data removed]"
          },
          "metadata": {
            "needs_background": "light"
          }
        }
      ]
    },
    {
      "cell_type": "markdown",
      "source": [
        "To check the mass balance error, we can check the total excess rainfall and total direct runoff:"
      ],
      "metadata": {
        "id": "YyAHO_znr2yH"
      }
    },
    {
      "cell_type": "code",
      "source": [
        "print(excess_rain.sum())\n",
        "print(direct_runoff.sum())"
      ],
      "metadata": {
        "colab": {
          "base_uri": "https://localhost:8080/"
        },
        "id": "BFq68Iutr8pF",
        "outputId": "06f08140-5e0f-4c3c-e220-90d497216ab5"
      },
      "execution_count": 36,
      "outputs": [
        {
          "output_type": "stream",
          "name": "stdout",
          "text": [
            "2.9410571593991275\n",
            "2.9410571593991275\n"
          ]
        }
      ]
    },
    {
      "cell_type": "markdown",
      "source": [
        "Both are exactly same, so it means there is no computational error issue.\n",
        "\n",
        "We can convert direct runoff from the unit of length (cm) to volumetric per time unit ($m^3/s$). For that, we need to multiply by the area of watershed and divide by the duration of each rainfall event (one hour in this case)."
      ],
      "metadata": {
        "id": "i7z2Gt8Nr-Vr"
      }
    },
    {
      "cell_type": "code",
      "source": [
        "area_watershed = 100 # km2\n",
        "area_watershed *= 1E6 # convert from km2 to m2\n",
        "\n",
        "direct_runoff_cumecs = (direct_runoff/100)*area_watershed/3600\n",
        "\n",
        "plt.bar(time_dr, direct_runoff_cumecs, align=\"edge\", width=1.0)\n",
        "plt.xlabel(\"Time (hours)\")\n",
        "plt.ylabel(\"Direct Runoff (cumecs)\")\n",
        "#plt.ylim(0,1.2)\n",
        "plt.xlim(0,10)\n",
        "plt.grid(True)"
      ],
      "metadata": {
        "colab": {
          "base_uri": "https://localhost:8080/",
          "height": 279
        },
        "id": "l97jNoFisM5d",
        "outputId": "baa8d8b7-85fc-43c7-fdd8-b47becf87513"
      },
      "execution_count": 37,
      "outputs": [
        {
          "output_type": "display_data",
          "data": {
            "text/plain": [
              "<Figure size 432x288 with 1 Axes>"
            ],
            "image/png": "[encoded data removed]"
          },
          "metadata": {
            "needs_background": "light"
          }
        }
      ]
    }
  ]
}