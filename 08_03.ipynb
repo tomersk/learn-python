{
  "nbformat": 4,
  "nbformat_minor": 0,
  "metadata": {
    "colab": {
      "provenance": [],
      "authorship_tag": "ABX9TyOmTgcKHibKRG20G7UWPxaL",
      "include_colab_link": true
    },
    "kernelspec": {
      "name": "python3",
      "display_name": "Python 3"
    },
    "language_info": {
      "name": "python"
    }
  },
  "cells": [
    {
      "cell_type": "markdown",
      "metadata": {
        "id": "view-in-github",
        "colab_type": "text"
      },
      "source": [
        "<a href=\"https://colab.research.google.com/github/tomersk/learn-python/blob/main/08_03.ipynb\" target=\"_parent\"><img src=\"https://colab.research.google.com/assets/colab-badge.svg\" alt=\"Open In Colab\"/></a>"
      ]
    },
    {
      "cell_type": "markdown",
      "source": [
        "## 8.3 NetCDF\n",
        "In this section, we will read a NetCDF file, and write in the same format. I am using the file, rhum.2003.nc which can be downloaded from http://www.unidata.ucar.edu/software/netcdf/examples/files.html. We will be using NetCDF library from Scientific.IO to read and write the NetCDF data, so lets first import it.\n"
      ],
      "metadata": {
        "id": "a5TgOpDAPj7r"
      }
    },
    {
      "cell_type": "code",
      "execution_count": 1,
      "metadata": {
        "colab": {
          "base_uri": "https://localhost:8080/"
        },
        "id": "iELoIIf4O3LA",
        "outputId": "4a6e562d-301a-4f3d-abc8-aca1f2d47cb7"
      },
      "outputs": [
        {
          "output_type": "stream",
          "name": "stdout",
          "text": [
            "Mounted at /content/gdrive/\n"
          ]
        }
      ],
      "source": [
        "from google.colab import drive\n",
        "import netCDF4 as nc\n",
        "import matplotlib.pyplot as plt\n",
        "import numpy as np\n",
        "\n",
        "drive.mount(\"/content/gdrive/\")\n",
        "\n",
        "file = '/content/gdrive/My Drive/Colab Notebooks/LearnPython/data/rhum.2003.nc'"
      ]
    },
    {
      "cell_type": "markdown",
      "source": [
        "### 8.3.1 Reading\n",
        "Let us start by reading a file. First, we open the file."
      ],
      "metadata": {
        "id": "093MEHFuPzbr"
      }
    },
    {
      "cell_type": "code",
      "source": [
        "ds = nc.Dataset(file)\n",
        "print(ds)\n",
        "\n",
        "# print the dimensions of the nc file\n",
        "print(ds.dimensions)\n",
        "\n",
        "print(ds.title)\n",
        "print(ds.description)\n",
        "\n",
        "# we can print the dimensions one by one\n",
        "for d in ds.dimensions.values():\n",
        "    print(d)"
      ],
      "metadata": {
        "colab": {
          "base_uri": "https://localhost:8080/"
        },
        "id": "AyJlMFZWP1tf",
        "outputId": "89bd8256-b47e-4bb0-f7b6-909cb02b4f1f"
      },
      "execution_count": 14,
      "outputs": [
        {
          "output_type": "stream",
          "name": "stdout",
          "text": [
            "<class 'netCDF4._netCDF4.Dataset'>\n",
            "root group (NETCDF3_CLASSIC data model, file format NETCDF3):\n",
            "    Conventions: COARDS\n",
            "    title: mean daily NMC reanalysis (2003)\n",
            "    base_date: [2003    1    1]\n",
            "    history: created 03/08/18 by Hoop (netCDF2.3)\n",
            "    description: Data is from NMC initialized reanalysis\n",
            "(4x/day).  It consists of most variables interpolated to\n",
            "pressure surfaces from model (sigma) surfaces.\n",
            "    platform: Model\n",
            "    dimensions(sizes): lon(144), lat(73), level(8), time(365)\n",
            "    variables(dimensions): float32 level(level), float32 lat(lat), float32 lon(lon), float64 time(time), int16 rhum(time, level, lat, lon)\n",
            "    groups: \n",
            "{'lon': <class 'netCDF4._netCDF4.Dimension'>: name = 'lon', size = 144, 'lat': <class 'netCDF4._netCDF4.Dimension'>: name = 'lat', size = 73, 'level': <class 'netCDF4._netCDF4.Dimension'>: name = 'level', size = 8, 'time': <class 'netCDF4._netCDF4.Dimension'> (unlimited): name = 'time', size = 365}\n",
            "mean daily NMC reanalysis (2003)\n",
            "Data is from NMC initialized reanalysis\n",
            "(4x/day).  It consists of most variables interpolated to\n",
            "pressure surfaces from model (sigma) surfaces.\n",
            "<class 'netCDF4._netCDF4.Dimension'>: name = 'lon', size = 144\n",
            "<class 'netCDF4._netCDF4.Dimension'>: name = 'lat', size = 73\n",
            "<class 'netCDF4._netCDF4.Dimension'>: name = 'level', size = 8\n",
            "<class 'netCDF4._netCDF4.Dimension'> (unlimited): name = 'time', size = 365\n"
          ]
        }
      ]
    },
    {
      "cell_type": "markdown",
      "source": [
        "In *nc* file, one dimension can be unlimited, which is time in this file. This file has four dimensions. *nc* file can have any number of dimensions, and we can read any chunk of data without reading the entire file. If the file size is large, it becomes very useful and we can work on the file even if our system can not load the entire file in one go. Let us look at the variables in the *nc* file."
      ],
      "metadata": {
        "id": "ClM2lMZcXT3b"
      }
    },
    {
      "cell_type": "code",
      "source": [
        "print(ds.variables)\n",
        "print(\"======= Variable names on seperate line =====\")\n",
        "# print one by one\n",
        "for var in ds.variables:\n",
        "  print(var)"
      ],
      "metadata": {
        "colab": {
          "base_uri": "https://localhost:8080/"
        },
        "id": "tf7TGJ6AX8XX",
        "outputId": "e389c668-5c8e-4b81-d96c-11082b54beba"
      },
      "execution_count": 15,
      "outputs": [
        {
          "output_type": "stream",
          "name": "stdout",
          "text": [
            "{'level': <class 'netCDF4._netCDF4.Variable'>\n",
            "float32 level(level)\n",
            "    units: millibar\n",
            "    actual_range: [1000.  300.]\n",
            "    long_name: Level\n",
            "    positive: down\n",
            "    GRIB_id: 100\n",
            "    GRIB_name: hPa\n",
            "unlimited dimensions: \n",
            "current shape = (8,)\n",
            "filling on, default _FillValue of 9.969209968386869e+36 used, 'lat': <class 'netCDF4._netCDF4.Variable'>\n",
            "float32 lat(lat)\n",
            "    units: degrees_north\n",
            "    actual_range: [ 90. -90.]\n",
            "    long_name: Latitude\n",
            "unlimited dimensions: \n",
            "current shape = (73,)\n",
            "filling on, default _FillValue of 9.969209968386869e+36 used, 'lon': <class 'netCDF4._netCDF4.Variable'>\n",
            "float32 lon(lon)\n",
            "    units: degrees_east\n",
            "    long_name: Longitude\n",
            "    actual_range: [  0.  357.5]\n",
            "unlimited dimensions: \n",
            "current shape = (144,)\n",
            "filling on, default _FillValue of 9.969209968386869e+36 used, 'time': <class 'netCDF4._netCDF4.Variable'>\n",
            "float64 time(time)\n",
            "    units: hours since 1-1-1 00:00:0.0\n",
            "    long_name: Time\n",
            "    actual_range: [17549208. 17557944.]\n",
            "    delta_t: 0000-00-01 00:00:00\n",
            "    avg_period: 0000-00-01 00:00:00\n",
            "unlimited dimensions: time\n",
            "current shape = (365,)\n",
            "filling on, default _FillValue of 9.969209968386869e+36 used, 'rhum': <class 'netCDF4._netCDF4.Variable'>\n",
            "int16 rhum(time, level, lat, lon)\n",
            "    long_name: mean Daily relative humidity\n",
            "    valid_range: [-25. 125.]\n",
            "    actual_range: [  0. 100.]\n",
            "    units: %\n",
            "    add_offset: 302.66\n",
            "    scale_factor: 0.01\n",
            "    missing_value: 32766\n",
            "    precision: 2\n",
            "    least_significant_digit: 0\n",
            "    GRIB_id: 52\n",
            "    GRIB_name: RH\n",
            "    var_desc: Relative humidity\n",
            "R\n",
            "    dataset: NCEP Reanalysis Daily Averages\n",
            "    level_desc: Multiple levels\n",
            "F\n",
            "    statistic: Mean\n",
            "M\n",
            "    parent_stat: Individual Obs\n",
            "I\n",
            "unlimited dimensions: time\n",
            "current shape = (365, 8, 73, 144)\n",
            "filling on, default _FillValue of -32767 used}\n",
            "======= Variable names on seperate line =====\n",
            "level\n",
            "lat\n",
            "lon\n",
            "time\n",
            "rhum\n"
          ]
        }
      ]
    },
    {
      "cell_type": "markdown",
      "source": [
        "We have five variables including the dimensions. We can access the value of any dimension or variables as:"
      ],
      "metadata": {
        "id": "LJA3i_k2Ynt4"
      }
    },
    {
      "cell_type": "code",
      "source": [
        "ds['level'][5]"
      ],
      "metadata": {
        "colab": {
          "base_uri": "https://localhost:8080/"
        },
        "id": "D3sjbb50YNTf",
        "outputId": "09e7b6f4-7004-4e6a-d8dd-55769b6ceadb"
      },
      "execution_count": 16,
      "outputs": [
        {
          "output_type": "execute_result",
          "data": {
            "text/plain": [
              "masked_array(data=500.,\n",
              "             mask=False,\n",
              "       fill_value=1e+20,\n",
              "            dtype=float32)"
            ]
          },
          "metadata": {},
          "execution_count": 16
        }
      ]
    },
    {
      "cell_type": "code",
      "source": [
        "ds['rhum'].shape"
      ],
      "metadata": {
        "colab": {
          "base_uri": "https://localhost:8080/"
        },
        "id": "g89aU0fZZCE1",
        "outputId": "cf2a151e-3086-40db-e6b5-7e73ddcedea4"
      },
      "execution_count": 17,
      "outputs": [
        {
          "output_type": "execute_result",
          "data": {
            "text/plain": [
              "(365, 8, 73, 144)"
            ]
          },
          "metadata": {},
          "execution_count": 17
        }
      ]
    },
    {
      "cell_type": "code",
      "source": [
        "plt.hist(ds['rhum'][:,1,1,1])"
      ],
      "metadata": {
        "colab": {
          "base_uri": "https://localhost:8080/",
          "height": 336
        },
        "id": "uithFZcLcirg",
        "outputId": "57aa87da-1f07-4bfe-9dd8-19d425eecc3b"
      },
      "execution_count": 19,
      "outputs": [
        {
          "output_type": "execute_result",
          "data": {
            "text/plain": [
              "(array([31., 13., 39., 28., 47., 50., 48., 32., 36., 41.]),\n",
              " array([-30266., -29266., -28266., -27266., -26266., -25266., -24266.,\n",
              "        -23266., -22266., -21266., -20266.], dtype=float32),\n",
              " <a list of 10 Patch objects>)"
            ]
          },
          "metadata": {},
          "execution_count": 19
        },
        {
          "output_type": "display_data",
          "data": {
            "text/plain": [
              "<Figure size 432x288 with 1 Axes>"
            ],
            "image/png": "[encoded data removed]"
          },
          "metadata": {
            "needs_background": "light"
          }
        }
      ]
    },
    {
      "cell_type": "markdown",
      "source": [
        "From the output of *ds.variables*, we know the *rhum* variable has dimension of (time, level, lat, lon). We can access the data from this variable like a *numpy.array*.\n",
        "\n",
        "### 8.3.2 Writing\n",
        "We can write the file in the same way. First we open the file for writing."
      ],
      "metadata": {
        "id": "6YtZpaEAZSn-"
      }
    },
    {
      "cell_type": "code",
      "source": [
        "out_file = '/content/gdrive/My Drive/Colab Notebooks/LearnPython/data/test.nc'\n",
        "ds = nc.Dataset(out_file, 'w', format='NETCDF4')\n"
      ],
      "metadata": {
        "id": "U7uaQXtNbjgs"
      },
      "execution_count": 6,
      "outputs": []
    },
    {
      "cell_type": "markdown",
      "source": [
        "Then we can define some global attributes like title, description etc."
      ],
      "metadata": {
        "id": "TficMI9eb3oP"
      }
    },
    {
      "cell_type": "code",
      "source": [
        "setattr(ds, 'title', 'trial')\n",
        "setattr(ds, 'description', 'File generated while tesing to write in NetCDF')"
      ],
      "metadata": {
        "id": "5Qf8X0aQb4je"
      },
      "execution_count": 7,
      "outputs": []
    },
    {
      "cell_type": "markdown",
      "source": [
        "Now, we can create some dimensions. We need to define the name of dimension and their size."
      ],
      "metadata": {
        "id": "vDo_4GlHcFbe"
      }
    },
    {
      "cell_type": "code",
      "source": [
        "ds.createDimension('lat', 73) \n",
        "ds.createDimension('lon', 144) \n",
        "ds.createDimension('level', 8) \n",
        "ds.createDimension('time', 365)"
      ],
      "metadata": {
        "colab": {
          "base_uri": "https://localhost:8080/"
        },
        "id": "fc3SRALccLhV",
        "outputId": "4dcb6458-03da-4bcc-9498-d1b6b37d9032"
      },
      "execution_count": 8,
      "outputs": [
        {
          "output_type": "execute_result",
          "data": {
            "text/plain": [
              "<class 'netCDF4._netCDF4.Dimension'>: name = 'time', size = 365"
            ]
          },
          "metadata": {},
          "execution_count": 8
        }
      ]
    },
    {
      "cell_type": "markdown",
      "source": [
        "Now, we can save the variables. First, we need to define the dimension from the list created above. The dimension should be tuple, notice the comma after the 'lat', . After this, we can create variable using createVariable, we need to specify the name of variable, format and dimension. We see that it has created a variable named ’lat’ and is referring to it."
      ],
      "metadata": {
        "id": "rTdrNkGhcT-t"
      }
    },
    {
      "cell_type": "code",
      "source": [
        "varDims = 'lat',\n",
        "lat = ds.createVariable('lat', 'f', varDims)\n",
        "print(ds.variables)"
      ],
      "metadata": {
        "colab": {
          "base_uri": "https://localhost:8080/"
        },
        "id": "v9EWiVCLcXcE",
        "outputId": "3eb6ed9d-ec0d-404c-d052-fc4d037c2487"
      },
      "execution_count": 9,
      "outputs": [
        {
          "output_type": "stream",
          "name": "stdout",
          "text": [
            "{'lat': <class 'netCDF4._netCDF4.Variable'>\n",
            "float32 lat(lat)\n",
            "unlimited dimensions: \n",
            "current shape = (73,)\n",
            "filling on, default _FillValue of 9.969209968386869e+36 used}\n"
          ]
        }
      ]
    },
    {
      "cell_type": "markdown",
      "source": [
        "Finally, we can assign our data to this variable."
      ],
      "metadata": {
        "id": "M7JAhZtZcc2N"
      }
    },
    {
      "cell_type": "code",
      "source": [
        "lat[:] = np.random.rand(73)"
      ],
      "metadata": {
        "id": "-_CMDZJ8cf_u"
      },
      "execution_count": 10,
      "outputs": []
    },
    {
      "cell_type": "markdown",
      "source": [
        "Now, we can close the file."
      ],
      "metadata": {
        "id": "rrWuFpZUci92"
      }
    },
    {
      "cell_type": "code",
      "source": [
        "ds.close()"
      ],
      "metadata": {
        "id": "Fuxophlhckuq"
      },
      "execution_count": 11,
      "outputs": []
    }
  ]
}