{
  "nbformat": 4,
  "nbformat_minor": 0,
  "metadata": {
    "colab": {
      "provenance": [],
      "authorship_tag": "ABX9TyP3rJz2c+WKLCzGvTDl9/bs",
      "include_colab_link": true
    },
    "kernelspec": {
      "name": "python3",
      "display_name": "Python 3"
    },
    "language_info": {
      "name": "python"
    }
  },
  "cells": [
    {
      "cell_type": "markdown",
      "metadata": {
        "id": "view-in-github",
        "colab_type": "text"
      },
      "source": [
        "<a href=\"https://colab.research.google.com/github/tomersk/learn-python/blob/main/03_05.ipynb\" target=\"_parent\"><img src=\"https://colab.research.google.com/assets/colab-badge.svg\" alt=\"Open In Colab\"/></a>"
      ]
    },
    {
      "cell_type": "markdown",
      "source": [
        "### 3.5 DataFrame\n",
        "\n",
        "DataFrame is a kind of dictionary. In a dictionary, each key corresponds to a value, while in the DataFrame, each key corresponds to a series (column). *pandas* is a library to deal with DataFrame, we will be using the same. \n",
        "\n",
        "### 3.5.1 Creating a DataFrame\n",
        "Let us start taking the same sample data as we took in the *dictionary* section."
      ],
      "metadata": {
        "id": "gLbDBrFaFBQ2"
      }
    },
    {
      "cell_type": "code",
      "execution_count": 2,
      "metadata": {
        "colab": {
          "base_uri": "https://localhost:8080/"
        },
        "id": "ynxyJjEgD1sj",
        "outputId": "ce977485-a0d8-4b58-8b6f-4f454db7f095"
      },
      "outputs": [
        {
          "output_type": "stream",
          "name": "stdout",
          "text": [
            "       names  rainfall\n",
            "0      Delhi         0\n",
            "1  Bangalore         5\n",
            "2    Kolkata        10\n"
          ]
        }
      ],
      "source": [
        "import pandas as pd\n",
        "\n",
        "names = ['Delhi', 'Bangalore', 'Kolkata']\n",
        "rainfall = [0, 5, 10]\n",
        "\n",
        "data = {\n",
        "  \"names\": names,\n",
        "  \"rainfall\": rainfall\n",
        "}\n",
        "\n",
        "df = pd.DataFrame(data)\n",
        "print(df)"
      ]
    },
    {
      "cell_type": "markdown",
      "source": [
        "This example does not show any benefit of using DataFrame over the dictionary. However, as we go much deeper into the DataFrame, the benefits will be obvious, so keep some patience.\n",
        "\n",
        "Let get data over second and third row in our DataFrame:"
      ],
      "metadata": {
        "id": "hrdFba3EG6ox"
      }
    },
    {
      "cell_type": "code",
      "source": [
        "print(df.loc[[1,2]])"
      ],
      "metadata": {
        "colab": {
          "base_uri": "https://localhost:8080/"
        },
        "id": "byK4N8h-HVtF",
        "outputId": "ea3ad5fc-8559-49ac-ab9b-10b3bb5730f9"
      },
      "execution_count": 3,
      "outputs": [
        {
          "output_type": "stream",
          "name": "stdout",
          "text": [
            "       names  rainfall\n",
            "1  Bangalore         5\n",
            "2    Kolkata        10\n"
          ]
        }
      ]
    },
    {
      "cell_type": "markdown",
      "source": [
        "Note that when we would like to have more than one row, we are providing input as list ([1,2]).\n",
        "\n",
        "### 3.5.2 Indexing DataFrame\n",
        "\n",
        "We can provide the name of row (i.e. index) also such as:"
      ],
      "metadata": {
        "id": "oSUqpjtvHp2I"
      }
    },
    {
      "cell_type": "code",
      "source": [
        "df = pd.DataFrame(data, index = [\"first\", \"second\", \"third\"])\n",
        "\n",
        "print(df) "
      ],
      "metadata": {
        "colab": {
          "base_uri": "https://localhost:8080/"
        },
        "id": "vYB_c7jyHpMw",
        "outputId": "75c8b142-d3dc-4a68-df0f-00c44528a059"
      },
      "execution_count": 5,
      "outputs": [
        {
          "output_type": "stream",
          "name": "stdout",
          "text": [
            "            names  rainfall\n",
            "first       Delhi         0\n",
            "second  Bangalore         5\n",
            "third     Kolkata        10\n"
          ]
        }
      ]
    },
    {
      "cell_type": "markdown",
      "source": [
        "Then, we can print value based on the index:"
      ],
      "metadata": {
        "id": "7LFShqLQIXYt"
      }
    },
    {
      "cell_type": "code",
      "source": [
        "print(df.loc[\"first\"])"
      ],
      "metadata": {
        "colab": {
          "base_uri": "https://localhost:8080/"
        },
        "id": "gjds8858Ianu",
        "outputId": "37fb32b9-a8c6-40bb-e846-20bd933b0ace"
      },
      "execution_count": 6,
      "outputs": [
        {
          "output_type": "stream",
          "name": "stdout",
          "text": [
            "names       Delhi\n",
            "rainfall        0\n",
            "Name: first, dtype: object\n"
          ]
        }
      ]
    }
  ]
}