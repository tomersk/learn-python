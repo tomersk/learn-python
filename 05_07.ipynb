{
  "nbformat": 4,
  "nbformat_minor": 0,
  "metadata": {
    "colab": {
      "provenance": [],
      "authorship_tag": "ABX9TyNl1KCsvuWiE1YCOsrE7ttS",
      "include_colab_link": true
    },
    "kernelspec": {
      "name": "python3",
      "display_name": "Python 3"
    },
    "language_info": {
      "name": "python"
    }
  },
  "cells": [
    {
      "cell_type": "markdown",
      "metadata": {
        "id": "view-in-github",
        "colab_type": "text"
      },
      "source": [
        "<a href=\"https://colab.research.google.com/github/tomersk/learn-python/blob/main/05_07.ipynb\" target=\"_parent\"><img src=\"https://colab.research.google.com/assets/colab-badge.svg\" alt=\"Open In Colab\"/></a>"
      ]
    },
    {
      "cell_type": "markdown",
      "source": [
        "## 5.7 Linear regression\n",
        "Linear regression is an approach to model the relationship between two variables using linear function. We will use st.linregress function to perform linear regression. We will first generate some synthetic data using a known linear model, and will also add some noise using normally distributed\n",
        "random variable. linregress provides correlation, p-value, and standard error of estimate apart\n",
        "from model coefficients."
      ],
      "metadata": {
        "id": "8wd_47MT5fcm"
      }
    },
    {
      "cell_type": "code",
      "execution_count": null,
      "metadata": {
        "colab": {
          "base_uri": "https://localhost:8080/"
        },
        "id": "19gwonJep8ya",
        "outputId": "b478c1dd-fa7b-4a24-dfff-85763166a144"
      },
      "outputs": [
        {
          "output_type": "stream",
          "name": "stdout",
          "text": [
            "3.009522595161564 6.904971495788413\n"
          ]
        }
      ],
      "source": [
        "import numpy as np\n",
        "import scipy.stats as st\n",
        "\n",
        "# generate the data\n",
        "n = 100 # length of the data\n",
        "x = np.random.rand(n)\n",
        "y = 3 + 7*x + np.random.randn(n)\n",
        "\n",
        "# perform linear regression\n",
        "b, a, r, p, e = st.linregress(x, y)\n",
        "print(a,b)"
      ]
    },
    {
      "cell_type": "markdown",
      "source": [
        "We generated data using linear model ($y = 3 + 7x + \\epsilon$), while fitted linear regression model provides approximate estimate of $a$ and $b$, but not exactly the same. \n",
        "The difference in the fitted model and true model, is because of the noise. As you add more noise, you will see that the fitted model departs more from the reality. \n",
        "\n",
        "Below figure shows the true line ($y = 3 + 7x$), corrupted measurement ($y = 3 + 7x + \\epsilon$), fitted line, and prediction interval for the fitted line. The fitted line and true line are matching reasonably. The prediction\n",
        "interval are also quiet reasonable.\n",
        "\n",
        "The variance of a predicted $Y_{pred}$ is given by,\n",
        "$\\sigma^2_{pred} = E\\left[(Y_{pred} − \\hat{Y})^2 \\right] = \\sigma^2_{\\epsilon} \\left( 1 + \\frac{1}{n} + \\frac{ (X_0 − \\bar{X})^2} {\\Sigma_{i=1}^{n} (X − \\bar{X})^2}\u0013\\right) $\n",
        "\n",
        "Where, the $\\sigma^2_{\\epsilon}$  is estimated by $s^2$ (\n",
        "the classic unbiased estimator of the residual variance). The $\\sigma^2_{pred}$ is used to generate prediction interval using a Students t distribution with n−2 degrees of freedom\n",
        "(because $s^2$ is an estimator). The confidence interval around $Y_{pred}$ is given by,\n",
        "$PI = \\sigma_{pred} ∗ z $ \n",
        "where, $PI$ is the prediction interval, $z$ is the value of Students t distribution at $\\alpha$ significance level."
      ],
      "metadata": {
        "id": "Hq_3VqSRB4U1"
      }
    },
    {
      "cell_type": "code",
      "source": [
        "eps = y - a - b*x # error of fitting and measured data\n",
        "x1 = np.linspace(0, 1) # x axis to plot the PI\n",
        "\n",
        "# variace of fitting error\n",
        "e_pi = np.var(eps)*(1+1.0/n + (x1-x.mean())**2/np.sum((x-x.mean())**2))\n",
        "# z value using the t distribution and with dof = n-2\n",
        "z = st.t.ppf(0.95, n-2)\n",
        "# prediction interval\n",
        "pi = np.sqrt(e_pi)*z\n",
        "zl = st.t.ppf(0.10, n-2) # z at 0.1\n",
        "zu = st.t.ppf(0.90, n-2) # z at 0.9\n",
        "ll = a + b*x1 + np.sqrt(e_pi)*zl # 10 %\n",
        "ul = a + b*x1 + np.sqrt(e_pi)*zu # 90 %"
      ],
      "metadata": {
        "id": "Df75vs5H4Xju"
      },
      "execution_count": null,
      "outputs": []
    },
    {
      "cell_type": "markdown",
      "source": [
        "Finally, we can plot the true line, fitted line, measurement corrupted with noise and prediction intervals."
      ],
      "metadata": {
        "id": "czIbJCQH4iXF"
      }
    },
    {
      "cell_type": "code",
      "source": [
        "import matplotlib.pyplot as plt\n",
        "plt.plot(x,y,'ro', label='measured')\n",
        "plt.plot(x1,ll,'--', label='10%')\n",
        "plt.plot(x1,ul,'--', label='90%')\n",
        "plt.xlabel('x')\n",
        "plt.ylabel('y')\n",
        "plt.legend(loc='best')\n",
        "plt.show()"
      ],
      "metadata": {
        "colab": {
          "base_uri": "https://localhost:8080/",
          "height": 279
        },
        "id": "-YTxtpQO_Trg",
        "outputId": "3c1a7b68-cc48-4c02-bbe6-3bb16541810d"
      },
      "execution_count": null,
      "outputs": [
        {
          "output_type": "display_data",
          "data": {
            "text/plain": [
              "<Figure size 432x288 with 1 Axes>"
            ],
            "image/png": "[encoded data removed]"
          },
          "metadata": {
            "needs_background": "light"
          }
        }
      ]
    }
  ]
}