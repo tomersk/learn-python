{
  "nbformat": 4,
  "nbformat_minor": 0,
  "metadata": {
    "colab": {
      "provenance": [],
      "authorship_tag": "ABX9TyNQ9W3C8TI6NVaS7jwDuTwZ",
      "include_colab_link": true
    },
    "kernelspec": {
      "name": "python3",
      "display_name": "Python 3"
    },
    "language_info": {
      "name": "python"
    }
  },
  "cells": [
    {
      "cell_type": "markdown",
      "metadata": {
        "id": "view-in-github",
        "colab_type": "text"
      },
      "source": [
        "<a href=\"https://colab.research.google.com/github/tomersk/learn-python/blob/main/01_03.ipynb\" target=\"_parent\"><img src=\"https://colab.research.google.com/assets/colab-badge.svg\" alt=\"Open In Colab\"/></a>"
      ]
    },
    {
      "cell_type": "markdown",
      "source": [
        "## 1.3 Install Additional Packages\n",
        "Pip is a useful program to install additional packages in Python, which provides an easiest way to install additional packages. Before installing pip, distribute should be installed. To do so, first we need to download Distribute, which is done by downloading distribute_setup.py file from\n",
        "http://python-distribute.org/distribute_setup.py, and running the following command:"
      ],
      "metadata": {
        "id": "6LTYv3Iy9qYy"
      }
    },
    {
      "cell_type": "code",
      "execution_count": null,
      "metadata": {
        "id": "yBgn6OwX9ptH"
      },
      "outputs": [],
      "source": [
        "$ sudo python distribute_setup.py"
      ]
    },
    {
      "cell_type": "markdown",
      "source": [
        "Note again for Windows users the sudo is not needed, and you can use the command without using it.\n",
        "\n",
        "Now download the get-pip.py from https://github.com/pypa/pip/raw/master/contrib/get-pip.py, and run as root:"
      ],
      "metadata": {
        "id": "1pEFiRdc94Gn"
      }
    },
    {
      "cell_type": "code",
      "source": [
        "$ sudo python get-pip.py"
      ],
      "metadata": {
        "id": "jXB6BYjo-HtF"
      },
      "execution_count": null,
      "outputs": []
    },
    {
      "cell_type": "markdown",
      "source": [
        "Note, that the distribute_setup.py and get-pip.py should be in your current working directory while installing, otherwise give the full path name of file. If you did not get any error in this\n",
        "procedure, pip should be ready to install new packages. The procedure to install packages is simple, let’s say we want to install package SomePackage, then we need to run the following command:"
      ],
      "metadata": {
        "id": "Ow9dj7Sg-Ksc"
      }
    },
    {
      "cell_type": "code",
      "source": [
        "$ sudo pip install SomePackage"
      ],
      "metadata": {
        "id": "L0Sudgqq-SVR"
      },
      "execution_count": null,
      "outputs": []
    },
    {
      "cell_type": "markdown",
      "source": [
        "Some frequently used packages are Numpy, Scipy, xlrd, xlwt, and gdal, so we will install all of them at this stage. Late, whenever a new package/library will be required, instructions to\n",
        "download and install them will be given there."
      ],
      "metadata": {
        "id": "6GEJTtLk-VP-"
      }
    },
    {
      "cell_type": "code",
      "source": [
        "$ sudo pip install Numpy\n",
        "$ sudo pip install Scipy\n",
        "$ sudo pip install xlrd\n",
        "$ sudo pip install xlwt\n",
        "$ sudo pip install gdal"
      ],
      "metadata": {
        "id": "lmQSohxr-evy"
      },
      "execution_count": null,
      "outputs": []
    },
    {
      "cell_type": "markdown",
      "source": [
        "These packages/libraries can be installed by specifying all packages name in one line, i.e."
      ],
      "metadata": {
        "id": "e2ajWxOu-hjd"
      }
    },
    {
      "cell_type": "code",
      "source": [
        "$ sudo pip install Numpy Scipy xlrd xlwt gdal"
      ],
      "metadata": {
        "id": "aOugRO2g-lRw"
      },
      "execution_count": null,
      "outputs": []
    },
    {
      "cell_type": "markdown",
      "source": [
        "But, at this time it is better to install them in separate line, so that if you get some error, you can easily find out which package is giving error. The most common problem with pip is that, it is not able to download library/package from internet. It happens mainly when you use some proxy to connect to the internet. In that case, we can download the *.tar.gz file of the library using internet browser, and then run the pip in the following way:"
      ],
      "metadata": {
        "id": "bPxPqhk1-pGy"
      }
    },
    {
      "cell_type": "code",
      "source": [
        "$ sudo pip install /path/to/*.tar.gz"
      ],
      "metadata": {
        "id": "VQSxYu0i-wzP"
      },
      "execution_count": null,
      "outputs": []
    },
    {
      "cell_type": "markdown",
      "source": [
        "Windows user can download *.exe or *.msi file if available and then install by double clicking it. If this also fails then, as a last option, you can download *.tar.gz file and extract it. Then, go to the folder where you have extracted the file. There, you should see the setup.py file. Now, run the\n",
        "following command:"
      ],
      "metadata": {
        "id": "MjqZUvdG-zM4"
      }
    },
    {
      "cell_type": "code",
      "source": [
        "$ sudo python setup.py install"
      ],
      "metadata": {
        "id": "z-2-tp0n-4ii"
      },
      "execution_count": null,
      "outputs": []
    },
    {
      "cell_type": "markdown",
      "source": [
        "If you see any error in this, which could possibly arise because of non-availability of some\n",
        "dependent package/library in your computer. You should read the README file provided with the\n",
        "package, it can provide you details of required package/library, and how to install them.\n",
        "The package/libraries are upgraded using the pip in the following way."
      ],
      "metadata": {
        "id": "lrejvYDK-6Tk"
      }
    },
    {
      "cell_type": "code",
      "source": [
        "$ sudo pip install --upgrade some_package"
      ],
      "metadata": {
        "id": "vi8XX5N5-8qZ"
      },
      "execution_count": null,
      "outputs": []
    }
  ]
}